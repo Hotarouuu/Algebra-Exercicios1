{
  "nbformat": 4,
  "nbformat_minor": 0,
  "metadata": {
    "colab": {
      "provenance": [],
      "toc_visible": true
    },
    "kernelspec": {
      "name": "python3",
      "display_name": "Python 3"
    },
    "language_info": {
      "name": "python"
    }
  },
  "cells": [
    {
      "cell_type": "code",
      "source": [
        "import numpy as np"
      ],
      "metadata": {
        "id": "JCE2Fhtqr1C2"
      },
      "execution_count": 1,
      "outputs": []
    },
    {
      "cell_type": "markdown",
      "source": [
        "## Operações com vetores\n",
        "\n",
        "- Soma de Vetores: Adiciona as componentes dos vetores. É uma operação que combina vetores e resulta em um novo vetor.\n",
        "- Subtração de Vetores: Subtrai as componentes dos vetores. Também resulta em um novo vetor.\n",
        "- Multiplicação por Escalar: Ajusta o comprimento do vetor e pode inverter sua direção.\n",
        "-Produto Escalar: Resulta em um número que mede a \"similaridade\" entre dois vetores.\n",
        "- Produto Vetorial: Resulta em um novo vetor que é ortogonal aos vetores originais e mede a área do paralelogramo formado por eles."
      ],
      "metadata": {
        "id": "eIUHmcuNp7bs"
      }
    },
    {
      "cell_type": "code",
      "execution_count": null,
      "metadata": {
        "colab": {
          "base_uri": "https://localhost:8080/"
        },
        "id": "nfuriAl3jjpA",
        "outputId": "382bdb70-3ed7-4c44-d46a-1e32bfb1d381"
      },
      "outputs": [
        {
          "output_type": "execute_result",
          "data": {
            "text/plain": [
              "array([ 1001, 30002,  4003])"
            ]
          },
          "metadata": {},
          "execution_count": 2
        }
      ],
      "source": [
        "#Exercício 1: Soma de Vetores\n",
        "#Descrição:  Escreva  uma  função  em  Python  que  some  dois  vetores.  Suponha  que  os\n",
        "#vetores  têm  o  mesmo  tamanho.  Resolva  o  exercício  de  forma  diferente  do  que  foi\n",
        "#mostrado nas aulas\n",
        "\n",
        "vetor1 = [1,2,3]\n",
        "vetor2 = [1000,30000,4000]\n",
        "\n",
        "np.add(vetor1, vetor2)\n",
        "\n",
        "\"\"\"\n",
        "Definição da função np.add do Numpy: The sum of x1 and x2, element-wise. This is a scalar if both x1 and x2 are scalars.\n",
        "\n",
        "\"\"\""
      ]
    },
    {
      "cell_type": "markdown",
      "source": [
        "**Definição de Tamanho de um Vetor:**\n",
        "\n",
        "O tamanho de um vetor se refere ao número de componentes ou dimensões que o vetor possui. No seu exemplo, ambos os vetores X e Y têm 3 componentes.\n",
        "\n",
        "Embora os valores dos vetores possam ser diferentes, o tamanho dos vetores é determinado apenas pela quantidade de componentes, não pelos valores. O fato de X ter valores menores e Y ter valores maiores não afeta o tamanho ou a dimensão dos vetores."
      ],
      "metadata": {
        "id": "zAveefoXrLjn"
      }
    },
    {
      "cell_type": "markdown",
      "source": [
        "## Exercicio 2 - Produto Escalar"
      ],
      "metadata": {
        "id": "zNFn7uAz77yd"
      }
    },
    {
      "cell_type": "code",
      "source": [
        "#Exercício 2: Produto Escalar\n",
        "#Descrição:  Implemente  uma  função  que  calcule  o  produto  escalar  entre  dois  vetores.\n",
        "#Resolva o exercício de forma diferente do que foi mostrado nas aulas.\n",
        "\n",
        "vetor_a = [2, -3, 1]\n",
        "vetor_b = [5, 7, 6]\n",
        "\n",
        "np.dot(vetor_a,vetor_b)\n",
        "\n",
        "# Definição da função np.dot do Numpy: Dot product of two arrays.\n",
        "\n",
        "# Possui mais coisas porém esse é o necessário (e o que eu consegui entender.)"
      ],
      "metadata": {
        "colab": {
          "base_uri": "https://localhost:8080/"
        },
        "id": "eckKMobPuZuW",
        "outputId": "a1920088-48b1-45d3-ee57-74dfd084f4e0"
      },
      "execution_count": null,
      "outputs": [
        {
          "output_type": "execute_result",
          "data": {
            "text/plain": [
              "-5"
            ]
          },
          "metadata": {},
          "execution_count": 3
        }
      ]
    },
    {
      "cell_type": "markdown",
      "source": [
        "O produto escalar de dois vetores é uma operação que resulta em um escalar (um número). Matematicamente, é a soma dos produtos dos componentes correspondentes dos vetores."
      ],
      "metadata": {
        "id": "hNOJrV-vvUJx"
      }
    },
    {
      "cell_type": "markdown",
      "source": [
        "## Exercicio 3 - Norma de um Vetor"
      ],
      "metadata": {
        "id": "P4CZkZnh7-Uu"
      }
    },
    {
      "cell_type": "code",
      "source": [
        "#Exercício 3: Norma de um Vetor\n",
        "#Descrição: Escreva uma função que calcule a norma (ou comprimento) de um vetor\n",
        "\n",
        "vetor_1 = [2,3,-100]\n",
        "\n",
        "np.linalg.norm(vetor_1)\n",
        "\n",
        "\"\"\"\n",
        "Definição da função np.linalg.norm do Numpy: Computes the vector norm of a vector (or batch of vectors)\n",
        "https://numpy.org/doc/stable/reference/generated/numpy.linalg.vector_norm.html\n",
        "\n",
        "\"\"\""
      ],
      "metadata": {
        "colab": {
          "base_uri": "https://localhost:8080/"
        },
        "id": "svDrlXXMu7Ng",
        "outputId": "91f932f4-87b2-48f8-e2d9-de14c6a46988"
      },
      "execution_count": null,
      "outputs": [
        {
          "output_type": "execute_result",
          "data": {
            "text/plain": [
              "100.0649788887201"
            ]
          },
          "metadata": {},
          "execution_count": 5
        }
      ]
    },
    {
      "cell_type": "markdown",
      "source": [
        "\n",
        "Vetor: Imagine um vetor como uma seta. Essa seta tem um ponto de partida, uma direção para onde aponta e um comprimento.\n",
        "\n",
        "Magnitude: A magnitude de um vetor é simplesmente o comprimento dessa seta. É o quão \"grande\" a seta é.\n",
        "\n",
        "Norma: A norma é um termo usado para se referir ao comprimento de um vetor também. Em muitos contextos, norma e magnitude significam a mesma coisa e se referem ao comprimento da seta.\n",
        "\n",
        "Portanto, se você pensar em uma seta em um papel, a magnitude é o comprimento da seta, e a norma, nesse caso, é apenas outra forma de dizer \"comprimento da seta\". Eles são essencialmente a mesma coisa quando estamos falando sobre vetores."
      ],
      "metadata": {
        "id": "NG9S8evswjIt"
      }
    },
    {
      "cell_type": "markdown",
      "source": [
        "## Exercicio 4 - Angulo entre Dois Vetores"
      ],
      "metadata": {
        "id": "beW5y_8f8ARj"
      }
    },
    {
      "cell_type": "code",
      "source": [
        "#Exercício 4: Ângulo entre Dois Vetores\n",
        "#Descrição: Implemente uma função que calcule o ângulo (em graus) entre dois vetores\n",
        "\n",
        "# To calculate the angle between two vectors, you need to first calculate the dot product of the vectors and divide it by the product\n",
        "# of their norms. The result is then passed to the np.arccos function.\n",
        "\n",
        "# Produto escalar dos vetores (dot product) e suas respectivas normas\n",
        "\n",
        "vetor_a = [2, -3, 1]\n",
        "vetor_b = [5, 7, 6]\n",
        "\n",
        "print(f'Dot product: {np.dot(vetor_a,vetor_b)}')\n",
        "norma_a = np.linalg.norm(vetor_a)\n",
        "print(f'Norma do vetor_a: {norma_a}')\n",
        "norma_b = np.linalg.norm(vetor_b)\n",
        "print(f'Norma do vetor_b: {norma_b}')\n",
        "\n",
        "# Produto entre as normas\n",
        "produto = norma_a * norma_b\n",
        "print(f'O produto entre as normas é: {produto}')\n",
        "\n",
        "# Divisão do dot product e o produto das normas\n",
        "\n",
        "divisao = -5 / produto\n",
        "print(f'Divisão é: {divisao}')\n",
        "# Calculo do angulo entre os vetores\n",
        "\n",
        "print(f'O angulo entre os vetores a e b é: {np.arccos(divisao)} (resultado em Radianos)')\n",
        "print(f'Mostrando o angulo em graus: {np.degrees(np.arccos(divisao))}')\n",
        "\n",
        "\"\"\"\n",
        " Documentações:\n",
        " https://numpy.org/doc/stable/reference/generated/numpy.arccos.html\n",
        " https://numpy.org/doc/stable/reference/generated/numpy.degrees.html\n",
        " https://numpy.org/doc/stable/reference/routines.linalg.html\n",
        "\n",
        "\"\"\""
      ],
      "metadata": {
        "colab": {
          "base_uri": "https://localhost:8080/"
        },
        "id": "7ShyF5bBwNVU",
        "outputId": "e2c2c2ec-2329-4735-df3f-ae7b7d6c101b"
      },
      "execution_count": null,
      "outputs": [
        {
          "output_type": "stream",
          "name": "stdout",
          "text": [
            "Dot product: -5\n",
            "Norma do vetor_a: 3.7416573867739413\n",
            "Norma do vetor_b: 10.488088481701515\n",
            "O produto entre as normas é: 39.242833740697165\n",
            "Divisão é: -0.1274117978594064\n",
            "O angulo entre os vetores a e b é: 1.6985553964627493 (resultado em Radianos)\n",
            "Mostrando o angulo em graus: 97.32005548648581\n"
          ]
        }
      ]
    },
    {
      "cell_type": "code",
      "source": [
        "# Criando função para calculo de angulos\n",
        "\n",
        "def angulos(vetor_a,vetor_b):\n",
        "\n",
        "  # To calculate the angle between two vectors, you need to first calculate the dot product of the vectors and divide it by the product\n",
        "  # of their norms. The result is then passed to the np.arccos function.\n",
        "\n",
        "  # Produto escalar dos vetores (dot product) e suas respectivas normas\n",
        "\n",
        "  dot_product = np.dot(vetor_a,vetor_b)\n",
        "  norma_a = np.linalg.norm(vetor_a)\n",
        "  norma_b = np.linalg.norm(vetor_b)\n",
        "\n",
        "  # Produto entre as normas\n",
        "\n",
        "  produto = norma_a * norma_b\n",
        "\n",
        "  # Divisão do dot product e o produto das normas\n",
        "\n",
        "  divisao = dot_product / produto\n",
        "\n",
        "  # Calculo do angulo entre os vetores\n",
        "\n",
        "  radianos = np.arccos(divisao)\n",
        "  return print(f'Mostrando o angulo em graus: {np.degrees(radianos)}')"
      ],
      "metadata": {
        "id": "k5vIzVa39Zaj"
      },
      "execution_count": null,
      "outputs": []
    },
    {
      "cell_type": "markdown",
      "source": [
        "**Como calcular o ângulo entre dois vetores?**\n",
        "\n",
        "Para calcular o angulo entre dois vetores, você precisa primeiro calcular o Produto Escalar (dot product) entre os vetores e dividir o mesmo pelo produto de suas normas. O resultado você usa a função np.arccos para calcular o cosseno, resultando em radianos."
      ],
      "metadata": {
        "id": "zeOi3scj2p9q"
      }
    },
    {
      "cell_type": "markdown",
      "source": [
        "## Exercicio 4 - Projeção de um Vetor sobre Outro"
      ],
      "metadata": {
        "id": "PPxtUu418BrH"
      }
    },
    {
      "cell_type": "markdown",
      "source": [
        "Descrição Geométrica\n",
        "\n",
        "Imagine que b é fixo e a é projetado sobre b como se uma luz estivesse brilhando perpendicularmente a b. A sombra de a sobre b é a projeção de a sobre b.\n",
        "\n",
        "Geometricamente, a projeção de a sobre b é o ponto mais próximo de a na linha definida por b.\n",
        "\n",
        "A projeção de vetores é usada em várias áreas, como em análise de componentes principais (PCA) em estatística, em processamento de sinal e imagem, em física para decompor vetores em componentes independentes, e em muitos outros campos da ciência e engenharia."
      ],
      "metadata": {
        "id": "i5DSQMfC-aZ-"
      }
    },
    {
      "cell_type": "code",
      "source": [
        "\n",
        "#Exercício 5: Projeção de um Vetor sobre Outro\n",
        "#Descrição: Escreva uma função que encontre a projeção de um vetor sobre outro vetor\n",
        "\n",
        "\n",
        "# Instruções para projeção vetorial no python:\n",
        "\n",
        "u = np.array([1, 2, 3])   # vector u\n",
        "v = np.array([5, 6, 2])   # vector v:\n",
        "\n",
        "# Task: Project vector u on vector v\n",
        "\n",
        "# finding norm of the vector v\n",
        "#v_norm = np.sqrt(sum(v**2)) é o que a instrução usa, mas prefiro usar outro.\n",
        "\n",
        "v_norm = np.linalg.norm(v)\n",
        "\n",
        "# Apply the formula as mentioned above for projecting a vector onto another vector and find dot product using np.dot()\n",
        "proj_of_u_on_v = (np.dot(u, v)/v_norm**2)*v\n",
        "\n",
        "print(\"Projection of Vector u on Vector v is: \", proj_of_u_on_v)\n",
        "\n"
      ],
      "metadata": {
        "colab": {
          "base_uri": "https://localhost:8080/"
        },
        "id": "n4zJBg5B1Rsc",
        "outputId": "b05bed49-976a-4022-f1fe-73a36ba76a00"
      },
      "execution_count": 2,
      "outputs": [
        {
          "output_type": "stream",
          "name": "stdout",
          "text": [
            "Projection of Vector u on Vector v is:  [1.76923077 2.12307692 0.70769231]\n"
          ]
        }
      ]
    },
    {
      "cell_type": "markdown",
      "source": [
        "Um vetor é um objeto geométrico que possui magnitude (isto é, comprimento) e direção. Um vetor é geralmente representado por um segmento de linha com uma certa direção conectando o ponto inicial A e o ponto terminal B como mostrado na figura abaixo e é denotado AB\n",
        "$$\n",
        "\\text{proj}_{\\vec{v}} (\\vec{u}) = \\frac{\\vec{u} \\cdot \\vec{v}}{\\|\\vec{v}\\|^2} \\vec{v}\n",
        "$$\n",
        "\n"
      ],
      "metadata": {
        "id": "Z1C_QpdW4Lda"
      }
    },
    {
      "cell_type": "code",
      "source": [],
      "metadata": {
        "id": "4ZoerfoK5Nx6"
      },
      "execution_count": null,
      "outputs": []
    }
  ]
}